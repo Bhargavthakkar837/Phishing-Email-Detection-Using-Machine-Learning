{
 "cells": [
  {
   "cell_type": "markdown",
   "metadata": {},
   "source": [
    "# 📧 Phishing Email Detection Using Machine Learning\n",
    "\n",
    "**Project Author:** Bhargav Thakkar , Ankit Suthar  \n",
    " \n",
    "**Technologies Used:** Python, Pandas, Scikit-learn, TF-IDF, Logistic Regression, Matplotlib, Seaborn\n",
    "\n",
    "---\n",
    "\n",
    "## 📋 Project Description\n",
    "\n",
    "This project builds an end-to-end Machine Learning pipeline to detect phishing emails.  \n",
    "The workflow includes:\n",
    "\n",
    "- Data loading from multiple phishing datasets\n",
    "- Text preprocessing (cleaning, normalization)\n",
    "- Combining datasets into a unified DataFrame\n",
    "- TF-IDF vectorization of email text\n",
    "- Training a Logistic Regression classifier\n",
    "- Model evaluation using Confusion Matrix, Precision-Recall Curve, ROC Curve\n",
    "- Saving the trained model and vectorizer for future use\n",
    "\n",
    "The final model achieves high accuracy and strong recall, making it suitable for real-world phishing detection systems.\n",
    "\n",
    "---\n"
   ]
  },
  {
   "cell_type": "markdown",
   "metadata": {},
   "source": [
    "# 📚 Table of Contents\n",
    "\n",
    "1. [Load Raw Datasets and Add Source Column](#load-raw-datasets-and-add-source-column)\n",
    "2. [Display Dataset Summary (Emails per Dataset)](#display-dataset-summary)\n",
    "3. [Preprocess Text (Lowercase, Remove URLs, etc.)](#preprocess-text)\n",
    "4. [Combine All Datasets into One Big DataFrame](#combine-all-datasets)\n",
    "5. [Save Combined Dataset to CSV](#save-combined-dataset)\n",
    "6. [Install Required Libraries (if missing)](#install-required-libraries)\n",
    "7. [TF-IDF Vectorization and Train-Test Split](#tf-idf-vectorization-and-train-test-split)\n",
    "8. [Save Vectorized Data and Splits](#save-vectorized-data-and-splits)\n",
    "9. [Train Logistic Regression Model](#train-logistic-regression-model)\n",
    "10. [Plot Confusion Matrix](#plot-confusion-matrix)\n",
    "11. [Plot Precision-Recall Curve and ROC Curve](#plot-precision-recall-curve-and-roc-curve)\n",
    "12. [Save Final Model and Vectorizer](#save-final-model-and-vectorizer)\n",
    "13. [Project Summary](#project-summary)\n"
   ]
  },
  {
   "cell_type": "markdown",
   "metadata": {},
   "source": [
    "📦 Cell 1: Load Raw Datasets and Add \"Source\" Column"
   ]
  },
  {
   "cell_type": "code",
   "execution_count": 23,
   "metadata": {},
   "outputs": [
    {
     "name": "stdout",
     "output_type": "stream",
     "text": [
      "Loading Assassin.csv...\n",
      "Assassin.csv loaded successfully. Shape: (5809, 8)\n",
      "Loading CEAS-08.csv...\n",
      "CEAS-08.csv loaded successfully. Shape: (39154, 8)\n",
      "Loading Enron.csv...\n",
      "Enron.csv loaded successfully. Shape: (29767, 4)\n",
      "Loading Ling.csv...\n",
      "Ling.csv loaded successfully. Shape: (2859, 4)\n",
      "Loading TREC-05.csv...\n",
      "❌ Error loading TREC-05.csv: Error tokenizing data. C error: Buffer overflow caught - possible malformed input file.\n",
      "\n",
      "Loading TREC-06.csv...\n",
      "❌ Error loading TREC-06.csv: Error tokenizing data. C error: Buffer overflow caught - possible malformed input file.\n",
      "\n",
      "Loading TREC-07.csv...\n",
      "TREC-07.csv loaded successfully. Shape: (53757, 8)\n",
      "\n",
      "✅ All datasets loaded (bad lines skipped if needed)!\n"
     ]
    }
   ],
   "source": [
    "import pandas as pd\n",
    "import os\n",
    "\n",
    "# Path where your raw datasets are stored\n",
    "raw_data_path = r\"C:\\Users\\Bhargav\\ML model phising email\\datasets\"\n",
    "\n",
    "# List of your raw dataset files\n",
    "dataset_files = {\n",
    "    'Assassin': 'Assassin.csv',\n",
    "    'CEAS-08': 'CEAS-08.csv',\n",
    "    'Enron': 'Enron.csv',\n",
    "    'Ling': 'Ling.csv',\n",
    "    'TREC-05': 'TREC-05.csv',\n",
    "    'TREC-06': 'TREC-06.csv',\n",
    "    'TREC-07': 'TREC-07.csv',\n",
    "}\n",
    "\n",
    "# Dictionary to hold loaded datasets\n",
    "datasets = {}\n",
    "\n",
    "# Step 1: Load each dataset and add 'source' column\n",
    "for source_name, filename in dataset_files.items():\n",
    "    file_path = os.path.join(raw_data_path, filename)\n",
    "    print(f\"Loading {filename}...\")\n",
    "\n",
    "    try:\n",
    "        df = pd.read_csv(\n",
    "            file_path,\n",
    "            encoding='latin1',        # Handle weird characters\n",
    "            on_bad_lines='skip'        # Skip badly formatted lines\n",
    "        )\n",
    "        \n",
    "        # Add a new column called 'source'\n",
    "        df['source'] = source_name\n",
    "        \n",
    "        # Store in dictionary\n",
    "        datasets[source_name] = df\n",
    "\n",
    "        print(f\"{filename} loaded successfully. Shape: {df.shape}\")\n",
    "\n",
    "    except Exception as e:\n",
    "        print(f\"❌ Error loading {filename}: {e}\")\n",
    "\n",
    "print(\"\\n✅ All datasets loaded (bad lines skipped if needed)!\")\n"
   ]
  },
  {
   "cell_type": "markdown",
   "metadata": {},
   "source": [
    "📊 Cell 1.1: Display Summary — Number of Emails Per Dataset"
   ]
  },
  {
   "cell_type": "code",
   "execution_count": null,
   "metadata": {},
   "outputs": [
    {
     "name": "stdout",
     "output_type": "stream",
     "text": [
      "📊 Dataset Summary:\n",
      "    Dataset   Rows  Columns\n",
      "0  Assassin   5809        8\n",
      "1   CEAS-08  39154        8\n",
      "2     Enron  29767        4\n",
      "3      Ling   2859        4\n",
      "4   TREC-07  53757        8\n"
     ]
    }
   ],
   "source": [
    "\n",
    "summary = []\n",
    "\n",
    "for name, df in datasets.items():\n",
    "    summary.append({\n",
    "        'Dataset': name,\n",
    "        'Rows': df.shape[0],\n",
    "        'Columns': df.shape[1]\n",
    "    })\n",
    "\n",
    "# Create summary DataFrame\n",
    "summary_df = pd.DataFrame(summary)\n",
    "\n",
    "# Display\n",
    "print(\"📊 Dataset Summary:\")\n",
    "print(summary_df)"
   ]
  },
  {
   "cell_type": "markdown",
   "metadata": {},
   "source": [
    "🛠️ Cell 2: Preprocess Text (Lowercase, Remove URLs, Numbers, Punctuation)"
   ]
  },
  {
   "cell_type": "code",
   "execution_count": 25,
   "metadata": {},
   "outputs": [
    {
     "name": "stdout",
     "output_type": "stream",
     "text": [
      "Preprocessing Assassin using column: subject\n",
      "Preprocessing CEAS-08 using column: subject\n",
      "Preprocessing Enron using column: subject\n",
      "Preprocessing Ling using column: subject\n",
      "Preprocessing TREC-07 using column: subject\n",
      "\n",
      "✅ Preprocessing complete for all datasets!\n"
     ]
    }
   ],
   "source": [
    "# Cell 2: Preprocessing text inside each dataset\n",
    "\n",
    "import re\n",
    "import string\n",
    "\n",
    "# Define a text cleaning function\n",
    "def preprocess_text(text):\n",
    "    if pd.isnull(text):\n",
    "        return \"\"\n",
    "    text = text.lower()  # Lowercase\n",
    "    text = re.sub(r'http\\S+|www.\\S+', '', text)  # Remove URLs\n",
    "    text = re.sub(r'\\d+', '', text)  # Remove numbers\n",
    "    text = text.translate(str.maketrans('', '', string.punctuation))  # Remove punctuation\n",
    "    text = text.strip()  # Remove extra spaces\n",
    "    return text\n",
    "\n",
    "# Apply preprocessing to each dataset\n",
    "for source_name, df in datasets.items():\n",
    "    # Let's assume your text is in a column called 'text' or maybe 'body' or 'content'\n",
    "    # We'll find which column has the email content\n",
    "    text_columns = [col for col in df.columns if 'subject' in col.lower() or 'body' in col.lower() or 'text' in col.lower() or 'content' in col.lower()]\n",
    "    \n",
    "    if not text_columns:\n",
    "        print(f\"⚠️ No text column found for {source_name}, skipping...\")\n",
    "        continue\n",
    "    \n",
    "    text_col = text_columns[0]  # pick the first matching one\n",
    "    \n",
    "    print(f\"Preprocessing {source_name} using column: {text_col}\")\n",
    "    \n",
    "    # Preprocess text\n",
    "    df['text_cleaned'] = df[text_col].apply(preprocess_text)\n",
    "    \n",
    "    # Update back to dictionary\n",
    "    datasets[source_name] = df\n",
    "\n",
    "print(\"\\n✅ Preprocessing complete for all datasets!\")\n"
   ]
  },
  {
   "cell_type": "markdown",
   "metadata": {},
   "source": [
    "📦 Cell 3: Combine All Preprocessed Datasets into One Big DataFrame"
   ]
  },
  {
   "cell_type": "code",
   "execution_count": 26,
   "metadata": {},
   "outputs": [
    {
     "name": "stdout",
     "output_type": "stream",
     "text": [
      "\n",
      "✅ All datasets combined successfully!\n",
      "Combined dataset shape: (131346, 3)\n",
      "\n",
      "Preview of combined dataset:\n",
      "                                          text  label    source\n",
      "0                      re new sequences window      0  Assassin\n",
      "1                       zzzzteana re alexander      0  Assassin\n",
      "2                      zzzzteana moscow bomber      0  Assassin\n",
      "3            irr klez the virus that  wont die      0  Assassin\n",
      "4  re zzzzteana nothing like mama used to make      0  Assassin\n"
     ]
    }
   ],
   "source": [
    "# Cell 3: Combine all datasets into one big DataFrame\n",
    "\n",
    "# List to collect all DataFrames\n",
    "all_dataframes = []\n",
    "\n",
    "for source_name, df in datasets.items():\n",
    "    # Check if 'Label' exists; some datasets may call it differently\n",
    "    label_columns = [col for col in df.columns if 'label' in col.lower() or 'spam' in col.lower() or 'class' in col.lower()]\n",
    "    \n",
    "    if not label_columns:\n",
    "        print(f\"⚠️ No label column found for {source_name}, skipping...\")\n",
    "        continue\n",
    "    \n",
    "    label_col = label_columns[0]  # pick first matching label column\n",
    "    \n",
    "    # Only select 'text_cleaned', 'Label', and 'source'\n",
    "    temp_df = df[['text_cleaned', label_col, 'source']].copy()\n",
    "    temp_df.columns = ['text', 'label', 'source']  # Rename for consistency\n",
    "    \n",
    "    all_dataframes.append(temp_df)\n",
    "\n",
    "# Combine all into one\n",
    "combined_df = pd.concat(all_dataframes, ignore_index=True)\n",
    "\n",
    "# Final Preview\n",
    "print(\"\\n✅ All datasets combined successfully!\")\n",
    "print(f\"Combined dataset shape: {combined_df.shape}\")\n",
    "print(\"\\nPreview of combined dataset:\")\n",
    "print(combined_df.head())\n"
   ]
  },
  {
   "cell_type": "markdown",
   "metadata": {},
   "source": [
    "📊 Cell 3.1: Display Summary — Combined Dataset Preview and Shape"
   ]
  },
  {
   "cell_type": "code",
   "execution_count": 27,
   "metadata": {},
   "outputs": [
    {
     "name": "stdout",
     "output_type": "stream",
     "text": [
      "📊 Emails per Source Dataset:\n",
      "     Source  Number of Emails\n",
      "0   TREC-07             53757\n",
      "1   CEAS-08             39154\n",
      "2     Enron             29767\n",
      "3  Assassin              5809\n",
      "4      Ling              2859\n"
     ]
    }
   ],
   "source": [
    "# Count number of rows from each source\n",
    "source_counts = combined_df['source'].value_counts().reset_index()\n",
    "source_counts.columns = ['Source', 'Number of Emails']\n",
    "\n",
    "# Display\n",
    "print(\"📊 Emails per Source Dataset:\")\n",
    "print(source_counts)"
   ]
  },
  {
   "cell_type": "markdown",
   "metadata": {},
   "source": [
    "💾 Cell 4: Save Combined Dataset to CSV"
   ]
  },
  {
   "cell_type": "code",
   "execution_count": 28,
   "metadata": {},
   "outputs": [
    {
     "name": "stdout",
     "output_type": "stream",
     "text": [
      "✅ Combined dataset saved successfully at:\n",
      "C:\\Users\\Bhargav\\ML model phising email\\Combined dataset\\combined_dataset.csv\n",
      "📦 Total rows saved: 131346\n"
     ]
    }
   ],
   "source": [
    "# Cell 4: Save the combined dataset\n",
    "\n",
    "import os\n",
    "\n",
    "# Define save path\n",
    "save_folder = r\"C:\\Users\\Bhargav\\ML model phising email\\Combined dataset\"\n",
    "save_path = os.path.join(save_folder, \"combined_dataset.csv\")\n",
    "\n",
    "# Make sure directory exists\n",
    "os.makedirs(save_folder, exist_ok=True)\n",
    "\n",
    "# Save combined DataFrame\n",
    "combined_df.to_csv(save_path, index=False)\n",
    "\n",
    "print(f\"✅ Combined dataset saved successfully at:\\n{save_path}\")\n",
    "print(f\"📦 Total rows saved: {combined_df.shape[0]}\")\n"
   ]
  },
  {
   "cell_type": "markdown",
   "metadata": {},
   "source": [
    "⚙️ Cell 4.1: Install Required Libraries (If Missing)"
   ]
  },
  {
   "cell_type": "code",
   "execution_count": 30,
   "metadata": {},
   "outputs": [
    {
     "name": "stdout",
     "output_type": "stream",
     "text": [
      "Requirement already satisfied: scikit-learn in c:\\users\\bhargav\\anaconda3\\envs\\pyspark_home\\lib\\site-packages (1.6.1)\n",
      "Requirement already satisfied: numpy>=1.19.5 in c:\\users\\bhargav\\anaconda3\\envs\\pyspark_home\\lib\\site-packages (from scikit-learn) (1.26.0)\n",
      "Requirement already satisfied: scipy>=1.6.0 in c:\\users\\bhargav\\anaconda3\\envs\\pyspark_home\\lib\\site-packages (from scikit-learn) (1.15.2)\n",
      "Requirement already satisfied: joblib>=1.2.0 in c:\\users\\bhargav\\anaconda3\\envs\\pyspark_home\\lib\\site-packages (from scikit-learn) (1.4.2)\n",
      "Requirement already satisfied: threadpoolctl>=3.1.0 in c:\\users\\bhargav\\anaconda3\\envs\\pyspark_home\\lib\\site-packages (from scikit-learn) (3.6.0)\n"
     ]
    }
   ],
   "source": [
    "# Cell 4.1: Install required libraries\n",
    "\n",
    "!pip install scikit-learn\n"
   ]
  },
  {
   "cell_type": "markdown",
   "metadata": {},
   "source": [
    "🔥 Cell 5: TF-IDF Vectorization and Train-Test Split"
   ]
  },
  {
   "cell_type": "markdown",
   "metadata": {},
   "source": [
    "📁 Cell 5.1: Save Vectorized Data and Train/Test Splits"
   ]
  },
  {
   "cell_type": "code",
   "execution_count": 32,
   "metadata": {},
   "outputs": [
    {
     "name": "stdout",
     "output_type": "stream",
     "text": [
      "✅ TF-IDF vectorization complete!\n",
      "Shape of vectorized data: (130251, 5000)\n",
      "✅ Train-Test Split complete! Training size: 104200, Test size: 26051\n",
      "✅ All vectorized data and splits saved successfully in:\n",
      "C:\\Users\\Bhargav\\ML model phising email\\Combined dataset\\vectorized data\n"
     ]
    }
   ],
   "source": [
    "# Cell 5 (fixed): Load, Vectorize, Split, Save Vectorized Data\n",
    "\n",
    "import pandas as pd\n",
    "import os\n",
    "import joblib\n",
    "from sklearn.feature_extraction.text import TfidfVectorizer\n",
    "from sklearn.model_selection import train_test_split\n",
    "\n",
    "# Load combined dataset\n",
    "combined_path = r\"C:\\Users\\Bhargav\\ML model phising email\\Combined dataset\\combined_dataset.csv\"\n",
    "df = pd.read_csv(combined_path)\n",
    "\n",
    "# Drop rows where 'text' is NaN or empty\n",
    "df = df.dropna(subset=['text'])\n",
    "df = df[df['text'].str.strip() != '']\n",
    "\n",
    "# Features and Labels\n",
    "X_raw = df['text']\n",
    "y = df['label']\n",
    "\n",
    "# Create TF-IDF Vectorizer\n",
    "tfidf = TfidfVectorizer(\n",
    "    max_features=5000,\n",
    "    stop_words='english'\n",
    ")\n",
    "\n",
    "# Fit and transform\n",
    "X = tfidf.fit_transform(X_raw)\n",
    "\n",
    "print(\"✅ TF-IDF vectorization complete!\")\n",
    "print(f\"Shape of vectorized data: {X.shape}\")\n",
    "\n",
    "# Train-Test Split\n",
    "X_train, X_test, y_train, y_test = train_test_split(\n",
    "    X, y,\n",
    "    test_size=0.2,\n",
    "    random_state=42,\n",
    "    stratify=y\n",
    ")\n",
    "\n",
    "print(f\"✅ Train-Test Split complete! Training size: {X_train.shape[0]}, Test size: {X_test.shape[0]}\")\n",
    "\n",
    "# Save Vectorized Data\n",
    "vectorized_save_folder = r\"C:\\Users\\Bhargav\\ML model phising email\\Combined dataset\\vectorized data\"\n",
    "os.makedirs(vectorized_save_folder, exist_ok=True)\n",
    "\n",
    "# Save TF-IDF Vectorizer\n",
    "joblib.dump(tfidf, os.path.join(vectorized_save_folder, \"tfidf_vectorizer.pkl\"))\n",
    "\n",
    "# Save Train and Test Data\n",
    "joblib.dump(X_train, os.path.join(vectorized_save_folder, \"X_train.pkl\"))\n",
    "joblib.dump(X_test, os.path.join(vectorized_save_folder, \"X_test.pkl\"))\n",
    "joblib.dump(y_train, os.path.join(vectorized_save_folder, \"y_train.pkl\"))\n",
    "joblib.dump(y_test, os.path.join(vectorized_save_folder, \"y_test.pkl\"))\n",
    "\n",
    "print(f\"✅ All vectorized data and splits saved successfully in:\\n{vectorized_save_folder}\")\n"
   ]
  },
  {
   "cell_type": "markdown",
   "metadata": {},
   "source": [
    "🧠 Cell 6: Train Logistic Regression Model and Save Model"
   ]
  },
  {
   "cell_type": "code",
   "execution_count": 33,
   "metadata": {},
   "outputs": [
    {
     "name": "stdout",
     "output_type": "stream",
     "text": [
      "✅ Logistic Regression Model Trained Successfully!\n",
      "📊 Test Accuracy: 0.9222\n",
      "\n",
      "Classification Report:\n",
      "              precision    recall  f1-score   support\n",
      "\n",
      "           0       0.95      0.89      0.92     12772\n",
      "           1       0.90      0.95      0.93     13279\n",
      "\n",
      "    accuracy                           0.92     26051\n",
      "   macro avg       0.92      0.92      0.92     26051\n",
      "weighted avg       0.92      0.92      0.92     26051\n",
      "\n",
      "\n",
      "✅ Trained model saved successfully at:\n",
      "C:\\Users\\Bhargav\\ML model phising email\\Combined dataset\\vectorized data\\logistic_regression_model.pkl\n"
     ]
    }
   ],
   "source": [
    "# Cell 6: Train Logistic Regression Model\n",
    "\n",
    "import joblib\n",
    "from sklearn.linear_model import LogisticRegression\n",
    "from sklearn.metrics import accuracy_score, classification_report, confusion_matrix\n",
    "\n",
    "# Path where vectorized data is saved\n",
    "vectorized_save_folder = r\"C:\\Users\\Bhargav\\ML model phising email\\Combined dataset\\vectorized data\"\n",
    "\n",
    "# Load vectorized data\n",
    "X_train = joblib.load(os.path.join(vectorized_save_folder, \"X_train.pkl\"))\n",
    "X_test = joblib.load(os.path.join(vectorized_save_folder, \"X_test.pkl\"))\n",
    "y_train = joblib.load(os.path.join(vectorized_save_folder, \"y_train.pkl\"))\n",
    "y_test = joblib.load(os.path.join(vectorized_save_folder, \"y_test.pkl\"))\n",
    "\n",
    "# Train Logistic Regression\n",
    "model = LogisticRegression(max_iter=1000, random_state=42)\n",
    "model.fit(X_train, y_train)\n",
    "\n",
    "print(\"✅ Logistic Regression Model Trained Successfully!\")\n",
    "\n",
    "# Predict on Test Set\n",
    "y_pred = model.predict(X_test)\n",
    "\n",
    "# Evaluate\n",
    "accuracy = accuracy_score(y_test, y_pred)\n",
    "print(f\"📊 Test Accuracy: {accuracy:.4f}\")\n",
    "\n",
    "# Detailed Classification Report\n",
    "print(\"\\nClassification Report:\")\n",
    "print(classification_report(y_test, y_pred))\n",
    "\n",
    "# Save Trained Model\n",
    "model_save_path = os.path.join(vectorized_save_folder, \"logistic_regression_model.pkl\")\n",
    "joblib.dump(model, model_save_path)\n",
    "\n",
    "print(f\"\\n✅ Trained model saved successfully at:\\n{model_save_path}\")\n"
   ]
  },
  {
   "cell_type": "markdown",
   "metadata": {},
   "source": [
    "📈 Cell 7: Plot Confusion Matrix"
   ]
  },
  {
   "cell_type": "code",
   "execution_count": 34,
   "metadata": {},
   "outputs": [
    {
     "data": {
      "image/png": "[encoded data removed]",
      "text/plain": [
       "<Figure size 600x400 with 1 Axes>"
      ]
     },
     "metadata": {},
     "output_type": "display_data"
    }
   ],
   "source": [
    "# Cell 7: Plot Confusion Matrix\n",
    "\n",
    "import matplotlib.pyplot as plt\n",
    "import seaborn as sns\n",
    "from sklearn.metrics import confusion_matrix\n",
    "\n",
    "# Predict again (just to make sure y_pred is fresh)\n",
    "y_pred = model.predict(X_test)\n",
    "\n",
    "# Compute confusion matrix\n",
    "cm = confusion_matrix(y_test, y_pred)\n",
    "\n",
    "# Plot\n",
    "plt.figure(figsize=(6, 4))\n",
    "sns.heatmap(cm, annot=True, fmt='d', cmap='Blues', cbar=False)\n",
    "\n",
    "plt.title('Confusion Matrix for Phishing Email Detection')\n",
    "plt.xlabel('Predicted Label')\n",
    "plt.ylabel('True Label')\n",
    "\n",
    "plt.xticks(ticks=[0.5, 1.5], labels=['Not Phishing', 'Phishing'])\n",
    "plt.yticks(ticks=[0.5, 1.5], labels=['Not Phishing', 'Phishing'], rotation=0)\n",
    "\n",
    "plt.show()\n"
   ]
  },
  {
   "cell_type": "markdown",
   "metadata": {},
   "source": [
    "📈 Cell 8: Plot Precision-Recall Curve and ROC Curve"
   ]
  },
  {
   "cell_type": "code",
   "execution_count": 35,
   "metadata": {},
   "outputs": [
    {
     "name": "stderr",
     "output_type": "stream",
     "text": [
      "c:\\Users\\Bhargav\\anaconda3\\envs\\pyspark_home\\Lib\\site-packages\\IPython\\core\\pylabtools.py:152: UserWarning: Glyph 128200 (\\N{CHART WITH UPWARDS TREND}) missing from current font.\n",
      "  fig.canvas.print_figure(bytes_io, **kw)\n"
     ]
    },
    {
     "data": {
      "image/png": "[encoded data removed]",
      "text/plain": [
       "<Figure size 600x400 with 1 Axes>"
      ]
     },
     "metadata": {},
     "output_type": "display_data"
    },
    {
     "name": "stderr",
     "output_type": "stream",
     "text": [
      "c:\\Users\\Bhargav\\anaconda3\\envs\\pyspark_home\\Lib\\site-packages\\IPython\\core\\pylabtools.py:152: UserWarning: Glyph 128200 (\\N{CHART WITH UPWARDS TREND}) missing from current font.\n",
      "  fig.canvas.print_figure(bytes_io, **kw)\n"
     ]
    },
    {
     "data": {
      "image/png": "[encoded data removed]",
      "text/plain": [
       "<Figure size 600x400 with 1 Axes>"
      ]
     },
     "metadata": {},
     "output_type": "display_data"
    }
   ],
   "source": [
    "# Cell 8: Plot Precision-Recall Curve and ROC Curve\n",
    "\n",
    "import matplotlib.pyplot as plt\n",
    "from sklearn.metrics import precision_recall_curve, roc_curve, auc\n",
    "\n",
    "# Predict probabilities\n",
    "y_probs = model.predict_proba(X_test)[:, 1]  # Get probability for class 1 (phishing)\n",
    "\n",
    "# Precision-Recall Curve\n",
    "precision, recall, thresholds_pr = precision_recall_curve(y_test, y_probs)\n",
    "\n",
    "plt.figure(figsize=(6, 4))\n",
    "plt.plot(recall, precision, marker='.', label='Logistic Regression')\n",
    "plt.title('📈 Precision-Recall Curve')\n",
    "plt.xlabel('Recall')\n",
    "plt.ylabel('Precision')\n",
    "plt.grid(True)\n",
    "plt.legend()\n",
    "plt.show()\n",
    "\n",
    "# ROC Curve\n",
    "fpr, tpr, thresholds_roc = roc_curve(y_test, y_probs)\n",
    "roc_auc = auc(fpr, tpr)\n",
    "\n",
    "plt.figure(figsize=(6, 4))\n",
    "plt.plot(fpr, tpr, label=f'ROC Curve (AUC = {roc_auc:.2f})')\n",
    "plt.plot([0, 1], [0, 1], 'k--', label='Random Guess')\n",
    "plt.title('📈 ROC Curve')\n",
    "plt.xlabel('False Positive Rate')\n",
    "plt.ylabel('True Positive Rate')\n",
    "plt.grid(True)\n",
    "plt.legend()\n",
    "plt.show()\n"
   ]
  },
  {
   "cell_type": "code",
   "execution_count": 36,
   "metadata": {},
   "outputs": [
    {
     "name": "stdout",
     "output_type": "stream",
     "text": [
      "✅ Logistic Regression model saved at: C:\\Users\\Bhargav\\ML model phising email\\Combined dataset\\vectorized data\\logistic_regression_model.pkl\n",
      "✅ TF-IDF Vectorizer saved at: C:\\Users\\Bhargav\\ML model phising email\\Combined dataset\\vectorized data\\tfidf_vectorizer.pkl\n"
     ]
    }
   ],
   "source": [
    "# Final Cell: Save Model and Vectorizer\n",
    "\n",
    "import joblib\n",
    "import os\n",
    "\n",
    "# Paths\n",
    "vectorized_save_folder = r\"C:\\Users\\Bhargav\\ML model phising email\\Combined dataset\\vectorized data\"\n",
    "\n",
    "# Save Trained Model (again just to make sure it's there)\n",
    "model_save_path = os.path.join(vectorized_save_folder, \"logistic_regression_model.pkl\")\n",
    "joblib.dump(model, model_save_path)\n",
    "\n",
    "# Save TF-IDF Vectorizer (already saved earlier but reconfirming)\n",
    "tfidf_save_path = os.path.join(vectorized_save_folder, \"tfidf_vectorizer.pkl\")\n",
    "joblib.dump(tfidf, tfidf_save_path)\n",
    "\n",
    "print(f\"✅ Logistic Regression model saved at: {model_save_path}\")\n",
    "print(f\"✅ TF-IDF Vectorizer saved at: {tfidf_save_path}\")\n"
   ]
  }
 ],
 "metadata": {
  "kernelspec": {
   "display_name": "pyspark_home",
   "language": "python",
   "name": "pyspark_home"
  },
  "language_info": {
   "codemirror_mode": {
    "name": "ipython",
    "version": 3
   },
   "file_extension": ".py",
   "mimetype": "text/x-python",
   "name": "python",
   "nbconvert_exporter": "python",
   "pygments_lexer": "ipython3",
   "version": "3.11.5"
  }
 },
 "nbformat": 4,
 "nbformat_minor": 2
}
